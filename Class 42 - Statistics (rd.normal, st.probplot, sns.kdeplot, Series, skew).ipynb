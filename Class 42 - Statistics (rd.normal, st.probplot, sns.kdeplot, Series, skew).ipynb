{
 "cells": [
  {
   "cell_type": "code",
   "execution_count": 1,
   "id": "41f708aa",
   "metadata": {},
   "outputs": [],
   "source": [
    "import numpy as np"
   ]
  },
  {
   "cell_type": "code",
   "execution_count": 2,
   "id": "9a3bd2ec",
   "metadata": {},
   "outputs": [
    {
     "data": {
      "text/plain": [
       "7.39509972887452"
      ]
     },
     "execution_count": 2,
     "metadata": {},
     "output_type": "execute_result"
    }
   ],
   "source": [
    "ar = np.array([150,160,170,165])\n",
    "ar.std()"
   ]
  },
  {
   "cell_type": "code",
   "execution_count": 3,
   "id": "38df8951",
   "metadata": {},
   "outputs": [
    {
     "name": "stdout",
     "output_type": "stream",
     "text": [
      "[-1.52127765851133, -0.16903085094570333, 1.1832159566199232, 0.50709255283711]\n"
     ]
    }
   ],
   "source": [
    "l = []\n",
    "for i in ar:\n",
    "    s = (i-ar.mean())/ar.std()\n",
    "    l.append(s)\n",
    "print(l)"
   ]
  },
  {
   "cell_type": "code",
   "execution_count": 6,
   "id": "3189cffb",
   "metadata": {},
   "outputs": [],
   "source": [
    "import numpy.random as rd\n",
    "import scipy.stats as st\n",
    "import pylab"
   ]
  },
  {
   "cell_type": "code",
   "execution_count": 5,
   "id": "45dafe09",
   "metadata": {},
   "outputs": [
    {
     "data": {
      "text/plain": [
       "array([10.25212324, 13.78940307, 12.19407633, 13.76615757,  9.78752501,\n",
       "       12.58078959,  4.47839222,  4.9224927 , 11.30632548,  8.91570133,\n",
       "       12.00170646, 12.35239671,  8.55585625, 11.50740129, 10.67195188,\n",
       "       10.06030139, 11.07655432, 11.4967293 ,  9.57945313,  7.26816095,\n",
       "        7.31801926, 12.25632355, 11.44002903, 10.03840756, 11.22559133,\n",
       "        7.82497701, 12.04272551,  9.31541036, 10.7083715 ,  9.44066289,\n",
       "        7.92434012, 10.96484355, 10.02151462,  8.06972887, 10.11791235,\n",
       "        6.18435128, 12.1923204 , 10.94450429,  8.56730006,  8.12723473,\n",
       "        9.99461556, 10.16205893, 10.0853352 ,  6.09589448,  9.47041268,\n",
       "       12.43546947,  8.39873885, 11.64195092,  7.98124834, 12.5221322 ,\n",
       "        8.54635484,  7.98816351, 13.75088388, 10.45045361, 10.3125268 ,\n",
       "        9.93404799, 12.00892315,  7.9968654 , 11.46689966, 11.44496351,\n",
       "        9.54048472,  8.3868941 , 12.99650065,  6.64964115, 12.59802419,\n",
       "       12.14777231, 10.30999902, 12.20896561,  9.37616526, 10.68190032,\n",
       "        6.73265242,  7.44310436,  9.31719955,  6.97401488, 10.03275663,\n",
       "        7.30031236, 10.23247768,  8.3594515 ,  9.90571652,  8.28740626,\n",
       "        5.42510693, 12.56062599, 11.86394886, 11.64725419, 10.86161842,\n",
       "       11.87717755,  7.20810964,  9.61575655, 11.60905709,  8.84012605,\n",
       "        8.32392192,  8.98708314,  8.53345005, 10.93034032, 11.66073723,\n",
       "        9.7501583 , 11.86408463, 10.18299781, 10.36151887, 10.0115568 ])"
      ]
     },
     "execution_count": 5,
     "metadata": {},
     "output_type": "execute_result"
    }
   ],
   "source": [
    "norm_arr = rd.normal(loc = 10,scale = 2, size = 100)\n",
    "norm_arr"
   ]
  },
  {
   "cell_type": "code",
   "execution_count": 7,
   "id": "4bd7ee73",
   "metadata": {},
   "outputs": [
    {
     "data": {
      "image/png": "[encoded data removed]",
      "text/plain": [
       "<Figure size 432x288 with 1 Axes>"
      ]
     },
     "metadata": {
      "needs_background": "light"
     },
     "output_type": "display_data"
    }
   ],
   "source": [
    "st.probplot(norm_arr,dist = 'norm',plot = pylab);"
   ]
  },
  {
   "cell_type": "code",
   "execution_count": 8,
   "id": "f64dde9a",
   "metadata": {},
   "outputs": [],
   "source": [
    "import seaborn as sns"
   ]
  },
  {
   "cell_type": "code",
   "execution_count": 9,
   "id": "6f5bd5ff",
   "metadata": {},
   "outputs": [
    {
     "data": {
      "text/plain": [
       "<AxesSubplot:ylabel='Density'>"
      ]
     },
     "execution_count": 9,
     "metadata": {},
     "output_type": "execute_result"
    },
    {
     "data": {
      "image/png": "[encoded data removed]",
      "text/plain": [
       "<Figure size 432x288 with 1 Axes>"
      ]
     },
     "metadata": {
      "needs_background": "light"
     },
     "output_type": "display_data"
    }
   ],
   "source": [
    "sns.kdeplot(norm_arr)"
   ]
  },
  {
   "cell_type": "code",
   "execution_count": 10,
   "id": "15ca0602",
   "metadata": {},
   "outputs": [],
   "source": [
    "import pandas as pd"
   ]
  },
  {
   "cell_type": "code",
   "execution_count": 11,
   "id": "044a2ad4",
   "metadata": {},
   "outputs": [
    {
     "data": {
      "text/html": [
       "<div>\n",
       "<style scoped>\n",
       "    .dataframe tbody tr th:only-of-type {\n",
       "        vertical-align: middle;\n",
       "    }\n",
       "\n",
       "    .dataframe tbody tr th {\n",
       "        vertical-align: top;\n",
       "    }\n",
       "\n",
       "    .dataframe thead th {\n",
       "        text-align: right;\n",
       "    }\n",
       "</style>\n",
       "<table border=\"1\" class=\"dataframe\">\n",
       "  <thead>\n",
       "    <tr style=\"text-align: right;\">\n",
       "      <th></th>\n",
       "      <th>height</th>\n",
       "      <th>weight</th>\n",
       "    </tr>\n",
       "  </thead>\n",
       "  <tbody>\n",
       "    <tr>\n",
       "      <th>0</th>\n",
       "      <td>158</td>\n",
       "      <td>63</td>\n",
       "    </tr>\n",
       "    <tr>\n",
       "      <th>1</th>\n",
       "      <td>160</td>\n",
       "      <td>62</td>\n",
       "    </tr>\n",
       "    <tr>\n",
       "      <th>2</th>\n",
       "      <td>162</td>\n",
       "      <td>58</td>\n",
       "    </tr>\n",
       "    <tr>\n",
       "      <th>3</th>\n",
       "      <td>157</td>\n",
       "      <td>57</td>\n",
       "    </tr>\n",
       "    <tr>\n",
       "      <th>4</th>\n",
       "      <td>165</td>\n",
       "      <td>65</td>\n",
       "    </tr>\n",
       "    <tr>\n",
       "      <th>5</th>\n",
       "      <td>161</td>\n",
       "      <td>68</td>\n",
       "    </tr>\n",
       "    <tr>\n",
       "      <th>6</th>\n",
       "      <td>160</td>\n",
       "      <td>60</td>\n",
       "    </tr>\n",
       "    <tr>\n",
       "      <th>7</th>\n",
       "      <td>158</td>\n",
       "      <td>59</td>\n",
       "    </tr>\n",
       "    <tr>\n",
       "      <th>8</th>\n",
       "      <td>157</td>\n",
       "      <td>61</td>\n",
       "    </tr>\n",
       "    <tr>\n",
       "      <th>9</th>\n",
       "      <td>159</td>\n",
       "      <td>64</td>\n",
       "    </tr>\n",
       "  </tbody>\n",
       "</table>\n",
       "</div>"
      ],
      "text/plain": [
       "   height  weight\n",
       "0     158      63\n",
       "1     160      62\n",
       "2     162      58\n",
       "3     157      57\n",
       "4     165      65\n",
       "5     161      68\n",
       "6     160      60\n",
       "7     158      59\n",
       "8     157      61\n",
       "9     159      64"
      ]
     },
     "execution_count": 11,
     "metadata": {},
     "output_type": "execute_result"
    }
   ],
   "source": [
    "x = pd.DataFrame({'height':[158,160,162,157,165,161,160,158,157,159],'weight':[63,62,58,57,65,68,60,59,61,64]})\n",
    "x"
   ]
  },
  {
   "cell_type": "code",
   "execution_count": 13,
   "id": "7d836bbe",
   "metadata": {},
   "outputs": [
    {
     "data": {
      "image/png": "[encoded data removed]",
      "text/plain": [
       "<Figure size 432x288 with 1 Axes>"
      ]
     },
     "metadata": {
      "needs_background": "light"
     },
     "output_type": "display_data"
    }
   ],
   "source": [
    "st.probplot(x['height'],dist = 'norm',plot = pylab);"
   ]
  },
  {
   "cell_type": "code",
   "execution_count": 16,
   "id": "4d87de3c",
   "metadata": {},
   "outputs": [
    {
     "data": {
      "image/png": "[encoded data removed]",
      "text/plain": [
       "<Figure size 432x288 with 1 Axes>"
      ]
     },
     "metadata": {
      "needs_background": "light"
     },
     "output_type": "display_data"
    }
   ],
   "source": [
    "st.probplot(x['weight'],dist = 'norm',plot = pylab);"
   ]
  },
  {
   "cell_type": "code",
   "execution_count": 17,
   "id": "938343be",
   "metadata": {},
   "outputs": [
    {
     "name": "stdout",
     "output_type": "stream",
     "text": [
      "[0.5454545454545454, 0.45454545454545453, 0.09090909090909091, 0.0, 0.7272727272727273, 1.0, 0.2727272727272727, 0.18181818181818182, 0.36363636363636365, 0.6363636363636364]\n"
     ]
    }
   ],
   "source": [
    "l = []\n",
    "for i in x['weight']:\n",
    "    s = (i-x['weight'].min())/(x['weight'].max() - x['weight'].min())\n",
    "    l.append(s)\n",
    "print(l)"
   ]
  },
  {
   "cell_type": "code",
   "execution_count": 18,
   "id": "69ee1c6a",
   "metadata": {},
   "outputs": [
    {
     "data": {
      "text/plain": [
       "-0.4201691339372759"
      ]
     },
     "execution_count": 18,
     "metadata": {},
     "output_type": "execute_result"
    }
   ],
   "source": [
    "pd.Series(norm_arr).skew()"
   ]
  },
  {
   "cell_type": "code",
   "execution_count": 19,
   "id": "fe1e5d60",
   "metadata": {},
   "outputs": [
    {
     "data": {
      "text/plain": [
       "9.955720752907384"
      ]
     },
     "execution_count": 19,
     "metadata": {},
     "output_type": "execute_result"
    }
   ],
   "source": [
    "norm_arr.mean()"
   ]
  },
  {
   "cell_type": "code",
   "execution_count": 20,
   "id": "767f93ea",
   "metadata": {},
   "outputs": [
    {
     "data": {
      "text/plain": [
       "10.072818293341427"
      ]
     },
     "execution_count": 20,
     "metadata": {},
     "output_type": "execute_result"
    }
   ],
   "source": [
    "pd.Series(norm_arr).median()"
   ]
  },
  {
   "cell_type": "code",
   "execution_count": 22,
   "id": "d5a46480",
   "metadata": {},
   "outputs": [
    {
     "data": {
      "text/plain": [
       "ModeResult(mode=array([4.47839222]), count=array([1]))"
      ]
     },
     "execution_count": 22,
     "metadata": {},
     "output_type": "execute_result"
    }
   ],
   "source": [
    "st.mode(norm_arr)"
   ]
  },
  {
   "cell_type": "code",
   "execution_count": null,
   "id": "d6764c41",
   "metadata": {},
   "outputs": [],
   "source": []
  }
 ],
 "metadata": {
  "kernelspec": {
   "display_name": "Python 3",
   "language": "python",
   "name": "python3"
  },
  "language_info": {
   "codemirror_mode": {
    "name": "ipython",
    "version": 3
   },
   "file_extension": ".py",
   "mimetype": "text/x-python",
   "name": "python",
   "nbconvert_exporter": "python",
   "pygments_lexer": "ipython3",
   "version": "3.8.8"
  }
 },
 "nbformat": 4,
 "nbformat_minor": 5
}
