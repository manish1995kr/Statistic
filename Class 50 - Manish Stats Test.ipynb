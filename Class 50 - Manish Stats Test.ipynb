{
 "cells": [
  {
   "cell_type": "markdown",
   "id": "2356ffc5",
   "metadata": {},
   "source": [
    "Q1 State the CLT"
   ]
  },
  {
   "cell_type": "code",
   "execution_count": null,
   "id": "539cb79b",
   "metadata": {},
   "outputs": [],
   "source": [
    "The central limit theorem states that if you have a population with mean μ and standard deviation σ and take \n",
    "sufficiently large random samples from the population with replacement , then the distribution of the sample means \n",
    "will be approximately normally distributed."
   ]
  },
  {
   "cell_type": "markdown",
   "id": "00341f62",
   "metadata": {},
   "source": [
    "Q2. We have Dataset like this  120,132,144,123,156,190,178,165,183.\n",
    "Find the mean , median , std , var ,check if the distribution is normal.\n"
   ]
  },
  {
   "cell_type": "code",
   "execution_count": 28,
   "id": "13d9cfcc",
   "metadata": {},
   "outputs": [],
   "source": [
    "import pandas as pd\n",
    "import numpy as np\n",
    "import seaborn as sns"
   ]
  },
  {
   "cell_type": "code",
   "execution_count": 11,
   "id": "2562c6f3",
   "metadata": {},
   "outputs": [],
   "source": [
    "import scipy.stats as st\n",
    "import pylab"
   ]
  },
  {
   "cell_type": "code",
   "execution_count": 15,
   "id": "7d8d09e5",
   "metadata": {},
   "outputs": [
    {
     "data": {
      "text/plain": [
       "array([120, 132, 144, 123, 156, 190, 178, 165, 183])"
      ]
     },
     "execution_count": 15,
     "metadata": {},
     "output_type": "execute_result"
    }
   ],
   "source": [
    "df = np.array([120,132,144,123,156,190,178,165,183])\n",
    "df"
   ]
  },
  {
   "cell_type": "code",
   "execution_count": 24,
   "id": "063570ac",
   "metadata": {},
   "outputs": [
    {
     "data": {
      "text/html": [
       "<div>\n",
       "<style scoped>\n",
       "    .dataframe tbody tr th:only-of-type {\n",
       "        vertical-align: middle;\n",
       "    }\n",
       "\n",
       "    .dataframe tbody tr th {\n",
       "        vertical-align: top;\n",
       "    }\n",
       "\n",
       "    .dataframe thead th {\n",
       "        text-align: right;\n",
       "    }\n",
       "</style>\n",
       "<table border=\"1\" class=\"dataframe\">\n",
       "  <thead>\n",
       "    <tr style=\"text-align: right;\">\n",
       "      <th></th>\n",
       "      <th>data</th>\n",
       "    </tr>\n",
       "  </thead>\n",
       "  <tbody>\n",
       "    <tr>\n",
       "      <th>0</th>\n",
       "      <td>120</td>\n",
       "    </tr>\n",
       "    <tr>\n",
       "      <th>1</th>\n",
       "      <td>132</td>\n",
       "    </tr>\n",
       "    <tr>\n",
       "      <th>2</th>\n",
       "      <td>144</td>\n",
       "    </tr>\n",
       "    <tr>\n",
       "      <th>3</th>\n",
       "      <td>123</td>\n",
       "    </tr>\n",
       "    <tr>\n",
       "      <th>4</th>\n",
       "      <td>156</td>\n",
       "    </tr>\n",
       "    <tr>\n",
       "      <th>5</th>\n",
       "      <td>190</td>\n",
       "    </tr>\n",
       "    <tr>\n",
       "      <th>6</th>\n",
       "      <td>178</td>\n",
       "    </tr>\n",
       "    <tr>\n",
       "      <th>7</th>\n",
       "      <td>165</td>\n",
       "    </tr>\n",
       "    <tr>\n",
       "      <th>8</th>\n",
       "      <td>183</td>\n",
       "    </tr>\n",
       "  </tbody>\n",
       "</table>\n",
       "</div>"
      ],
      "text/plain": [
       "   data\n",
       "0   120\n",
       "1   132\n",
       "2   144\n",
       "3   123\n",
       "4   156\n",
       "5   190\n",
       "6   178\n",
       "7   165\n",
       "8   183"
      ]
     },
     "execution_count": 24,
     "metadata": {},
     "output_type": "execute_result"
    }
   ],
   "source": [
    "df1 = pd.DataFrame({'data':[120,132,144,123,156,190,178,165,183]})\n",
    "df1"
   ]
  },
  {
   "cell_type": "code",
   "execution_count": 16,
   "id": "3aeeadbb",
   "metadata": {},
   "outputs": [
    {
     "data": {
      "text/plain": [
       "154.55555555555554"
      ]
     },
     "execution_count": 16,
     "metadata": {},
     "output_type": "execute_result"
    }
   ],
   "source": [
    "df.mean()"
   ]
  },
  {
   "cell_type": "code",
   "execution_count": 26,
   "id": "f3d982c6",
   "metadata": {},
   "outputs": [
    {
     "data": {
      "text/plain": [
       "156.0"
      ]
     },
     "execution_count": 26,
     "metadata": {},
     "output_type": "execute_result"
    }
   ],
   "source": [
    "df1['data'].median()"
   ]
  },
  {
   "cell_type": "code",
   "execution_count": 18,
   "id": "cbf08dc2",
   "metadata": {},
   "outputs": [
    {
     "data": {
      "text/plain": [
       "24.801931426184048"
      ]
     },
     "execution_count": 18,
     "metadata": {},
     "output_type": "execute_result"
    }
   ],
   "source": [
    "df.std()"
   ]
  },
  {
   "cell_type": "code",
   "execution_count": 19,
   "id": "489fd8c8",
   "metadata": {},
   "outputs": [
    {
     "data": {
      "text/plain": [
       "615.1358024691358"
      ]
     },
     "execution_count": 19,
     "metadata": {},
     "output_type": "execute_result"
    }
   ],
   "source": [
    "df.var()"
   ]
  },
  {
   "cell_type": "code",
   "execution_count": 27,
   "id": "c070ff11",
   "metadata": {},
   "outputs": [
    {
     "data": {
      "image/png": "[encoded data removed]",
      "text/plain": [
       "<Figure size 432x288 with 1 Axes>"
      ]
     },
     "metadata": {
      "needs_background": "light"
     },
     "output_type": "display_data"
    }
   ],
   "source": [
    "st.probplot(df,dist = 'norm',plot = pylab);"
   ]
  },
  {
   "cell_type": "markdown",
   "id": "b6ef329b",
   "metadata": {},
   "source": [
    "Q3.State what is a random variable and what is PDF , CDF and PMF.\n",
    "Can we have CDF of Discrete variable \n"
   ]
  },
  {
   "cell_type": "code",
   "execution_count": null,
   "id": "250f26a8",
   "metadata": {},
   "outputs": [],
   "source": [
    "A random variable is a variable whose value change at every executed outcome. Random Variable can be discrete or \n",
    "continuous.\n",
    "\n",
    "pdf is probability density function is a statistical expression that defines a probability distribution for a discrete \n",
    "random variable (e.g., a stock or ETF) as opposed to a continuous random variable.\n",
    "\n",
    "cdf is cummulative density function if we add all the pdf we get cdf\n",
    "\n",
    "by integration of pdf we get cdf\n",
    "and by derivation of cdf we get pdf\n",
    "\n",
    "A probability mass function (pmf) is a function over the sample space of a discrete random variable X which gives \n",
    "the probability that X is equal to a certain value. \n",
    "\n",
    "yes we can have CDF of Discrete variable\n",
    "The advantage of the CDF is that it can be defined for any kind of random variable (discrete, continuous, and mixed)."
   ]
  },
  {
   "cell_type": "markdown",
   "id": "38c64087",
   "metadata": {},
   "source": [
    "Q4.What is the key difference between Covariance and Corelation ?\n"
   ]
  },
  {
   "cell_type": "code",
   "execution_count": null,
   "id": "c645fc77",
   "metadata": {},
   "outputs": [],
   "source": [
    "covariance denot that 2 variable are dependent on each other\n",
    "\n",
    "Correlation is a statistical measure that indicates how strongly two variables are related."
   ]
  },
  {
   "cell_type": "code",
   "execution_count": null,
   "id": "28e8500e",
   "metadata": {},
   "outputs": [],
   "source": [
    "Q5. Compute the Spearman Corelation coefficient.\n"
   ]
  },
  {
   "cell_type": "code",
   "execution_count": 30,
   "id": "ef5a35fe",
   "metadata": {},
   "outputs": [
    {
     "data": {
      "text/html": [
       "<div>\n",
       "<style scoped>\n",
       "    .dataframe tbody tr th:only-of-type {\n",
       "        vertical-align: middle;\n",
       "    }\n",
       "\n",
       "    .dataframe tbody tr th {\n",
       "        vertical-align: top;\n",
       "    }\n",
       "\n",
       "    .dataframe thead th {\n",
       "        text-align: right;\n",
       "    }\n",
       "</style>\n",
       "<table border=\"1\" class=\"dataframe\">\n",
       "  <thead>\n",
       "    <tr style=\"text-align: right;\">\n",
       "      <th></th>\n",
       "      <th>weight</th>\n",
       "      <th>weight1</th>\n",
       "    </tr>\n",
       "  </thead>\n",
       "  <tbody>\n",
       "    <tr>\n",
       "      <th>0</th>\n",
       "      <td>45</td>\n",
       "      <td>78</td>\n",
       "    </tr>\n",
       "    <tr>\n",
       "      <th>1</th>\n",
       "      <td>78</td>\n",
       "      <td>45</td>\n",
       "    </tr>\n",
       "    <tr>\n",
       "      <th>2</th>\n",
       "      <td>89</td>\n",
       "      <td>90</td>\n",
       "    </tr>\n",
       "    <tr>\n",
       "      <th>3</th>\n",
       "      <td>67</td>\n",
       "      <td>70</td>\n",
       "    </tr>\n",
       "    <tr>\n",
       "      <th>4</th>\n",
       "      <td>56</td>\n",
       "      <td>66</td>\n",
       "    </tr>\n",
       "    <tr>\n",
       "      <th>5</th>\n",
       "      <td>99</td>\n",
       "      <td>91</td>\n",
       "    </tr>\n",
       "    <tr>\n",
       "      <th>6</th>\n",
       "      <td>70</td>\n",
       "      <td>88</td>\n",
       "    </tr>\n",
       "    <tr>\n",
       "      <th>7</th>\n",
       "      <td>98</td>\n",
       "      <td>56</td>\n",
       "    </tr>\n",
       "    <tr>\n",
       "      <th>8</th>\n",
       "      <td>33</td>\n",
       "      <td>100</td>\n",
       "    </tr>\n",
       "    <tr>\n",
       "      <th>9</th>\n",
       "      <td>68</td>\n",
       "      <td>80</td>\n",
       "    </tr>\n",
       "  </tbody>\n",
       "</table>\n",
       "</div>"
      ],
      "text/plain": [
       "   weight  weight1\n",
       "0      45       78\n",
       "1      78       45\n",
       "2      89       90\n",
       "3      67       70\n",
       "4      56       66\n",
       "5      99       91\n",
       "6      70       88\n",
       "7      98       56\n",
       "8      33      100\n",
       "9      68       80"
      ]
     },
     "execution_count": 30,
     "metadata": {},
     "output_type": "execute_result"
    }
   ],
   "source": [
    "co = pd.DataFrame({'weight':[45,78,89,67,56,99,70,98,33,68],'weight1':[78,45,90,70,66,91,88,56,100,80]})\n",
    "co"
   ]
  },
  {
   "cell_type": "code",
   "execution_count": 34,
   "id": "293c9530",
   "metadata": {},
   "outputs": [
    {
     "data": {
      "text/html": [
       "<div>\n",
       "<style scoped>\n",
       "    .dataframe tbody tr th:only-of-type {\n",
       "        vertical-align: middle;\n",
       "    }\n",
       "\n",
       "    .dataframe tbody tr th {\n",
       "        vertical-align: top;\n",
       "    }\n",
       "\n",
       "    .dataframe thead th {\n",
       "        text-align: right;\n",
       "    }\n",
       "</style>\n",
       "<table border=\"1\" class=\"dataframe\">\n",
       "  <thead>\n",
       "    <tr style=\"text-align: right;\">\n",
       "      <th></th>\n",
       "      <th>weight</th>\n",
       "      <th>weight1</th>\n",
       "    </tr>\n",
       "  </thead>\n",
       "  <tbody>\n",
       "    <tr>\n",
       "      <th>weight</th>\n",
       "      <td>1.000000</td>\n",
       "      <td>-0.266659</td>\n",
       "    </tr>\n",
       "    <tr>\n",
       "      <th>weight1</th>\n",
       "      <td>-0.266659</td>\n",
       "      <td>1.000000</td>\n",
       "    </tr>\n",
       "  </tbody>\n",
       "</table>\n",
       "</div>"
      ],
      "text/plain": [
       "           weight   weight1\n",
       "weight   1.000000 -0.266659\n",
       "weight1 -0.266659  1.000000"
      ]
     },
     "execution_count": 34,
     "metadata": {},
     "output_type": "execute_result"
    }
   ],
   "source": [
    "co.corr()"
   ]
  },
  {
   "cell_type": "code",
   "execution_count": 35,
   "id": "004a1851",
   "metadata": {},
   "outputs": [
    {
     "data": {
      "text/html": [
       "<div>\n",
       "<style scoped>\n",
       "    .dataframe tbody tr th:only-of-type {\n",
       "        vertical-align: middle;\n",
       "    }\n",
       "\n",
       "    .dataframe tbody tr th {\n",
       "        vertical-align: top;\n",
       "    }\n",
       "\n",
       "    .dataframe thead th {\n",
       "        text-align: right;\n",
       "    }\n",
       "</style>\n",
       "<table border=\"1\" class=\"dataframe\">\n",
       "  <thead>\n",
       "    <tr style=\"text-align: right;\">\n",
       "      <th></th>\n",
       "      <th>weight</th>\n",
       "      <th>weight1</th>\n",
       "    </tr>\n",
       "  </thead>\n",
       "  <tbody>\n",
       "    <tr>\n",
       "      <th>weight</th>\n",
       "      <td>1.000000</td>\n",
       "      <td>-0.078788</td>\n",
       "    </tr>\n",
       "    <tr>\n",
       "      <th>weight1</th>\n",
       "      <td>-0.078788</td>\n",
       "      <td>1.000000</td>\n",
       "    </tr>\n",
       "  </tbody>\n",
       "</table>\n",
       "</div>"
      ],
      "text/plain": [
       "           weight   weight1\n",
       "weight   1.000000 -0.078788\n",
       "weight1 -0.078788  1.000000"
      ]
     },
     "execution_count": 35,
     "metadata": {},
     "output_type": "execute_result"
    }
   ],
   "source": [
    "co.corr('spearman')"
   ]
  },
  {
   "cell_type": "code",
   "execution_count": 36,
   "id": "a8393be4",
   "metadata": {},
   "outputs": [],
   "source": [
    "sper = co.corr('spearman')"
   ]
  },
  {
   "cell_type": "code",
   "execution_count": 37,
   "id": "adde926d",
   "metadata": {},
   "outputs": [
    {
     "data": {
      "text/plain": [
       "<AxesSubplot:>"
      ]
     },
     "execution_count": 37,
     "metadata": {},
     "output_type": "execute_result"
    },
    {
     "data": {
      "image/png": "[encoded data removed]",
      "text/plain": [
       "<Figure size 432x288 with 2 Axes>"
      ]
     },
     "metadata": {
      "needs_background": "light"
     },
     "output_type": "display_data"
    }
   ],
   "source": [
    "sns.heatmap(sper, annot = True)"
   ]
  },
  {
   "cell_type": "markdown",
   "id": "9eca4dd8",
   "metadata": {},
   "source": [
    "Q6. pop mean  = 400\n",
    "      Sample mean = 370\n",
    "      Sample std  = 30\n",
    "      C.I  = 95%\n",
    "      N = 80\n"
   ]
  },
  {
   "cell_type": "code",
   "execution_count": 42,
   "id": "477c9f8d",
   "metadata": {},
   "outputs": [],
   "source": [
    "pop_mean  = 400\n",
    "Sample_mean = 370\n",
    "Sample_std  = 30\n",
    "CI  = 95\n",
    "N = 80\n"
   ]
  },
  {
   "cell_type": "code",
   "execution_count": 43,
   "id": "875d52f1",
   "metadata": {},
   "outputs": [],
   "source": [
    "import math"
   ]
  },
  {
   "cell_type": "code",
   "execution_count": 45,
   "id": "0f3dbd22",
   "metadata": {},
   "outputs": [],
   "source": [
    "n = math.sqrt(80)"
   ]
  },
  {
   "cell_type": "code",
   "execution_count": 51,
   "id": "696f83c1",
   "metadata": {},
   "outputs": [
    {
     "data": {
      "text/plain": [
       "-8.94427190999916"
      ]
     },
     "execution_count": 51,
     "metadata": {},
     "output_type": "execute_result"
    }
   ],
   "source": [
    "z_test = (Sample_mean - pop_mean)/(Sample_std/(n))\n",
    "z_test"
   ]
  },
  {
   "cell_type": "markdown",
   "id": "8e2901e8",
   "metadata": {},
   "source": [
    "Q7. pop mean  = 33\n",
    "       Sample mean = 30\n",
    "       Sample std = 2.5\n",
    "      Alpha = 0.10\n",
    "      N = 8\n"
   ]
  },
  {
   "cell_type": "code",
   "execution_count": null,
   "id": "5ec8f047",
   "metadata": {},
   "outputs": [],
   "source": []
  },
  {
   "cell_type": "code",
   "execution_count": 53,
   "id": "2d694ed3",
   "metadata": {},
   "outputs": [
    {
     "data": {
      "text/plain": [
       "-3.3941125496954285"
      ]
     },
     "execution_count": 53,
     "metadata": {},
     "output_type": "execute_result"
    }
   ],
   "source": [
    "popmean = 33\n",
    "samplemean = 30\n",
    "samplestd = 2.5\n",
    "alpha = 0.10\n",
    "num = 8\n",
    "num = math.sqrt(8)\n",
    "z_test1 = (samplemean - popmean)/(samplestd/(num))\n",
    "z_test1"
   ]
  },
  {
   "cell_type": "code",
   "execution_count": null,
   "id": "d670f387",
   "metadata": {},
   "outputs": [],
   "source": [
    "p val of z_test1 (-3.39) is 0.00035\n",
    "\n",
    "so p value is smaller than alpha\n",
    "so we reject the null hypothesis"
   ]
  },
  {
   "cell_type": "markdown",
   "id": "1935c6ae",
   "metadata": {},
   "source": [
    "Q8. \n",
    "Observed \n",
    "A\n",
    "B\n",
    "C\n",
    "D\n",
    "Owned 1 dog\n",
    "60\n",
    "50\n",
    "30\n",
    "20\n",
    "Owned 2 dog\n",
    "30\n",
    "20\n",
    "15\n",
    "10\n",
    "\n",
    " Check for the degree of independence \n",
    "\n"
   ]
  },
  {
   "cell_type": "code",
   "execution_count": 57,
   "id": "f6cbb6ee",
   "metadata": {},
   "outputs": [
    {
     "data": {
      "text/plain": [
       "(61.276595744680854,\n",
       " 47.659574468085104,\n",
       " 30.638297872340427,\n",
       " 20.425531914893618,\n",
       " 28.72340425531915,\n",
       " 22.340425531914892,\n",
       " 14.361702127659575,\n",
       " 9.574468085106384)"
      ]
     },
     "execution_count": 57,
     "metadata": {},
     "output_type": "execute_result"
    }
   ],
   "source": [
    "a = (90*160)/235\n",
    "b = (70*160)/235\n",
    "c = (45*160)/235\n",
    "d  =(30*160)/235\n",
    "e = (90*75)/235\n",
    "f = (70*75)/235\n",
    "g = (45*75)/235\n",
    "h  =(30*75)/235\n",
    "a,b,c,d,e,f,g,h"
   ]
  },
  {
   "cell_type": "code",
   "execution_count": 58,
   "id": "c2a83e30",
   "metadata": {},
   "outputs": [],
   "source": [
    "degree_of_freedom = 1"
   ]
  },
  {
   "cell_type": "code",
   "execution_count": 66,
   "id": "b2d03fe4",
   "metadata": {},
   "outputs": [],
   "source": [
    "x = ((60-61.28)**2)/61.28 + ((50-47.66)**2)/47.66 + ((30-30.64)**2)/30.64 + ((20-20.43)**2)/20.43 + ((30-28.72)**2)/28.72 + ((20-22.34)**2)/22.34 + ((15-14.36)**2)/14.36 + ((10-9.57)**2)/9.57"
   ]
  },
  {
   "cell_type": "code",
   "execution_count": 67,
   "id": "8c7f0213",
   "metadata": {},
   "outputs": [
    {
     "data": {
      "text/plain": [
       "0.5140384294639091"
      ]
     },
     "execution_count": 67,
     "metadata": {},
     "output_type": "execute_result"
    }
   ],
   "source": [
    "x"
   ]
  },
  {
   "cell_type": "code",
   "execution_count": null,
   "id": "670cd5e6",
   "metadata": {},
   "outputs": [],
   "source": [
    "by see on the Chi-Square Probabilities table we get this value 7.815\n",
    "so over chi square value is 0.5140\n",
    "so chi square value is smaller than table value so we accept the null hypothsis"
   ]
  }
 ],
 "metadata": {
  "kernelspec": {
   "display_name": "Python 3",
   "language": "python",
   "name": "python3"
  },
  "language_info": {
   "codemirror_mode": {
    "name": "ipython",
    "version": 3
   },
   "file_extension": ".py",
   "mimetype": "text/x-python",
   "name": "python",
   "nbconvert_exporter": "python",
   "pygments_lexer": "ipython3",
   "version": "3.8.8"
  }
 },
 "nbformat": 4,
 "nbformat_minor": 5
}
